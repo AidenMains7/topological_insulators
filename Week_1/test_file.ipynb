{
 "cells": [
  {
   "cell_type": "code",
   "execution_count": 79,
   "metadata": {},
   "outputs": [],
   "source": [
    "import sys\n",
    "sys.path.append(\".\")\n",
    "\n",
    "import numpy as np\n",
    "import pandas as pd\n",
    "import matplotlib.pyplot as plt\n",
    "import ast\n",
    "\n",
    "from project_execute import many_lattices"
   ]
  },
  {
   "cell_type": "code",
   "execution_count": 80,
   "metadata": {},
   "outputs": [
    {
     "name": "stdout",
     "output_type": "stream",
     "text": [
      "[(-1., -1.,  0., array([[nan, nan, nan],\n",
      "        [nan, nan, nan]]))\n",
      " (-1.,  0.,  0., array([[nan, nan, nan],\n",
      "        [nan, nan, nan]]))\n",
      " (-1.,  1.,  0., array([[nan, nan, nan],\n",
      "        [nan, nan, nan]]))\n",
      " ( 0., -1.,  1., array([[ 0. ,  5. , 10. ],\n",
      "        [ 1. ,  0.2,  0. ]]))\n",
      " ( 0.,  0., -1., array([[ 0.,  5., 10.],\n",
      "        [-1., -1.,  0.]]))\n",
      " ( 0.,  1.,  0., array([[nan, nan, nan],\n",
      "        [nan, nan, nan]]))\n",
      " ( 1., -1.,  2., array([[ 0.,  5., 10.],\n",
      "        [ 2.,  0.,  0.]]))\n",
      " ( 1.,  0., -1., array([[ 0.,  5., 10.],\n",
      "        [-1., -1.,  0.]]))\n",
      " ( 1.,  1.,  0., array([[nan, nan, nan],\n",
      "        [nan, nan, nan]]))              ]\n"
     ]
    }
   ],
   "source": [
    "method = \"symmetry\"\n",
    "order = 3\n",
    "pad_w = 0\n",
    "pbc = True\n",
    "n = 5\n",
    "M_values = np.linspace(-1, 1, 3)\n",
    "B_tilde_values = np.linspace(-1, 1, 3)\n",
    "W_values = np.linspace(0, 10, 3)\n",
    "iterations_per_disorder = 10\n",
    "fermi_energy = 0.0\n",
    "\n",
    "data = many_lattices(method=method, order=order, pad_w=pad_w, pbc=pbc, n=n, M_values=M_values, B_tilde_values=B_tilde_values, W_values=W_values, \n",
    "                        iterations_per_disorder=iterations_per_disorder, fermi_energy=fermi_energy, num_jobs=4, cores_per_job=1, progresses=(True, True, False))\n",
    "\n",
    "print(data)"
   ]
  },
  {
   "cell_type": "code",
   "execution_count": 84,
   "metadata": {},
   "outputs": [
    {
     "name": "stdout",
     "output_type": "stream",
     "text": [
      "NpzFile 'numpy_data.npz' with keys: arr_0\n"
     ]
    }
   ],
   "source": [
    "np.savez(\"numpy_data.npz\", data)\n",
    "\n",
    "read_data = np.load(\"numpy_data.npz\")\n",
    "\n",
    "print(read_data)"
   ]
  }
 ],
 "metadata": {
  "kernelspec": {
   "display_name": "Python 3",
   "language": "python",
   "name": "python3"
  },
  "language_info": {
   "codemirror_mode": {
    "name": "ipython",
    "version": 3
   },
   "file_extension": ".py",
   "mimetype": "text/x-python",
   "name": "python",
   "nbconvert_exporter": "python",
   "pygments_lexer": "ipython3",
   "version": "3.12.3"
  }
 },
 "nbformat": 4,
 "nbformat_minor": 2
}
