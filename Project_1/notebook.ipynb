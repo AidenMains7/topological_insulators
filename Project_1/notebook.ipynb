{
 "cells": [
  {
   "cell_type": "code",
   "execution_count": 5,
   "metadata": {},
   "outputs": [],
   "source": [
    "import sys\n",
    "sys.path.append(\".\")\n",
    "\n",
    "import numpy as np\n",
    "import matplotlib as pyplot\n",
    "from project_execute import plot_data"
   ]
  },
  {
   "cell_type": "code",
   "execution_count": 8,
   "metadata": {},
   "outputs": [
    {
     "name": "stdout",
     "output_type": "stream",
     "text": [
      "[[-2.   -2.   -2.   ... 12.   12.   12.  ]\n",
      " [ 0.    0.04  0.08 ...  1.92  1.96  2.  ]\n",
      " [ 0.    0.    0.   ... -2.   -2.   -2.  ]]\n"
     ]
    }
   ],
   "source": [
    "data = np.load(\"phase_diagram_data.npy\")\n",
    "print(data)"
   ]
  }
 ],
 "metadata": {
  "kernelspec": {
   "display_name": "Python 3",
   "language": "python",
   "name": "python3"
  },
  "language_info": {
   "codemirror_mode": {
    "name": "ipython",
    "version": 3
   },
   "file_extension": ".py",
   "mimetype": "text/x-python",
   "name": "python",
   "nbconvert_exporter": "python",
   "pygments_lexer": "ipython3",
   "version": "3.12.3"
  }
 },
 "nbformat": 4,
 "nbformat_minor": 2
}
