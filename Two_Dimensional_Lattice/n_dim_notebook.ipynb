{
 "cells": [
  {
   "cell_type": "code",
   "execution_count": 71,
   "metadata": {},
   "outputs": [],
   "source": [
    "import numpy as np\n",
    "import scipy as sp\n",
    "import itertools"
   ]
  },
  {
   "cell_type": "code",
   "execution_count": 72,
   "metadata": {},
   "outputs": [],
   "source": [
    "#Define dimensions and boundary conditions\n",
    "L_y = 10 #rows\n",
    "L_x = 10 #columns\n",
    "isPeriodicVert = False\n",
    "isPeriodicHor = False"
   ]
  },
  {
   "cell_type": "code",
   "execution_count": 73,
   "metadata": {},
   "outputs": [],
   "source": [
    "def get_nth_dim(array, nth_dim, index): #index values on the nth dimension\n",
    "    '''Credit to https://stackoverflow.com/a/45462833'''\n",
    "    return array[(slice(None), )*nth_dim + (index, )]"
   ]
  },
  {
   "cell_type": "code",
   "execution_count": 74,
   "metadata": {},
   "outputs": [],
   "source": [
    "def hop_1D(L,isPeriodic): #hopping in 1D with given boundary condition\n",
    "    #L: number of lattice points\n",
    "    #(clearly) based on your code \n",
    "\n",
    "    lattice = np.arange(L) #1D lattice\n",
    "\n",
    "    cos = sp.sparse.dok_matrix((L,L), dtype=complex) #initialize matrices as sparse dok matrices\n",
    "    sin = sp.sparse.dok_matrix((L,L), dtype=complex)\n",
    "\n",
    "    for i in range(L):\n",
    "        nextPos = lattice[(i+1)%L]\n",
    "        doHop = isPeriodic or nextPos != 0\n",
    "        if doHop:\n",
    "            cos[i,nextPos] = 1/2\n",
    "            sin[i,nextPos] = 1j/2 #j^2 = -1\n",
    "\n",
    "    #we need not compute negative dir, just add hermitian adjoint\n",
    "    cos += cos.conj().T\n",
    "    sin += sin.conj().T\n",
    "\n",
    "    return cos.toarray(), sin.toarray()"
   ]
  },
  {
   "cell_type": "code",
   "execution_count": 81,
   "metadata": {},
   "outputs": [],
   "source": [
    "def hop_2D(L_y,L_x,isPerY,isPerX): #find cos, sin matrices for hopping in the dir of each axis; specify if either axis is periodic.\n",
    "    #L_y: vertical size (n rows)\n",
    "    #L_x: horizontal size (n cols)\n",
    "    #isPerY,X: is periodic (boudnary cond) in respective direction?\n",
    "    n_points = L_y*L_x\n",
    "    lattice = np.arange(n_points).reshape((L_y,L_x))\n",
    "\n",
    "\n",
    "    cosY = sp.sparse.dok_matrix((n_points,n_points), dtype=complex) #initialize matrices as sparse dok matrices\n",
    "    sinY = sp.sparse.dok_matrix((n_points,n_points), dtype=complex)\n",
    "    cosX = sp.sparse.dok_matrix((n_points,n_points), dtype=complex) \n",
    "    sinX = sp.sparse.dok_matrix((n_points,n_points), dtype=complex)\n",
    "\n",
    "    for y in range(L_y):\n",
    "        for x in range(L_x):\n",
    "\n",
    "            y_nhbr = lattice[(y+1)%L_y, x] #next neighbor in positive vert dir (down)\n",
    "            doHopY = isPerY or y_nhbr != 0 #only hop if periodic or next point is not wrapped \n",
    "            if doHopY:\n",
    "                cosY[lattice[y,x], y_nhbr] = 1/2\n",
    "                sinY[lattice[y,x], y_nhbr] = 1j/2\n",
    "\n",
    "\n",
    "            x_nhbr = lattice[y, (x+1)%L_x] #next neighbor in positive hor dir (right)\n",
    "            doHopX = isPerX or x_nhbr != 0\n",
    "            if doHopX:\n",
    "                cosX[lattice[y,x], x_nhbr] = 1/2\n",
    "                sinX[lattice[y,x], x_nhbr] = 1j/2\n",
    "\n",
    "    ver_list = [cosY, sinY]\n",
    "    hor_list = [cosX, sinX]\n",
    "\n",
    "    sup_list = [ver_list, hor_list] #idea to generalize to N dimensions\n",
    "\n",
    "    for i in sup_list: #for each axis dir list \n",
    "        for j in i: #for each cos, sin in a given direction\n",
    "            j += j.conj().T  #add hermitian adjoint (as opposed to also computing negative hop direction)\n",
    "\n",
    "    for i in range(len(sup_list)):\n",
    "        for j in range(len(sup_list[i])):\n",
    "            sup_list[i][j] = sup_list[i][j].toarray() #convert to numpy array\n",
    "\n",
    "    return sup_list"
   ]
  },
  {
   "cell_type": "code",
   "execution_count": 76,
   "metadata": {},
   "outputs": [],
   "source": [
    "def init_cos_sin(n_points): \n",
    "    cos = sp.sparse.dok_matrix((n_points,n_points), dtype=complex) #initialize matrices as sparse dok matrices\n",
    "    sin = sp.sparse.dok_matrix((n_points,n_points), dtype=complex)\n",
    "    return cos, sin"
   ]
  },
  {
   "cell_type": "code",
   "execution_count": 82,
   "metadata": {},
   "outputs": [],
   "source": [
    "def hop_ndim(shape,isPer):\n",
    "    #shape: a tuple describing the size each dimension\n",
    "    #isPer: a list of boolean with the same length as shape; is periodic in given dir?\n",
    "\n",
    "    n_dims = len(shape)\n",
    "    n_points = 1 #initalize\n",
    "    for i in shape: #product of all dimension size\n",
    "        n_points *= i\n",
    "\n",
    "    lattice = np.arange(n_points).reshape(shape)\n",
    "\n",
    "    super_list = [None]*n_dims #list of all cos, sin arrays\n",
    "\n",
    "    for i in range(n_dims): #initalize cos, sin matrices\n",
    "        super_list[i] = [init_cos_sin(n_points)]\n",
    "\n",
    "\n",
    "    for idx, value in np.ndenumerate(lattice): #for all lattice points\n",
    "        for i in range(len(idx)): #each idx is a point; for each dimension \n",
    "            point = np.array(idx) #convert point to array\n",
    "\n",
    "            neighbor = point[(i+1)%shape[i]]\n",
    "            doHop = isPer[i] or neighbor != 0\n",
    "            if doHop:\n",
    "                super_list[i][lattice[idx],0] = 1/2\n",
    "                super_list[i][lattice[idx],1] = 1j/2\n",
    "\n",
    "    for i in super_list: #for each axis dir list \n",
    "        for j in i: #for each cos, sin in a given direction\n",
    "            j += j.conj().T  #add hermitian adjoint (as opposed to also computing negative hop direction)\n",
    "\n",
    "    for i in range(len(super_list)):\n",
    "        for j in range(len(super_list[i])):\n",
    "            super_list[i][j] = super_list[i][j].toarray() #convert to numpy array\n",
    "\n",
    "    return super_list"
   ]
  },
  {
   "cell_type": "code",
   "execution_count": 83,
   "metadata": {},
   "outputs": [
    {
     "ename": "IndexError",
     "evalue": "too many indices for array: array is 1-dimensional, but 2 were indexed",
     "output_type": "error",
     "traceback": [
      "\u001b[1;31m---------------------------------------------------------------------------\u001b[0m",
      "\u001b[1;31mIndexError\u001b[0m                                Traceback (most recent call last)",
      "Cell \u001b[1;32mIn[83], line 4\u001b[0m\n\u001b[0;32m      1\u001b[0m shape \u001b[38;5;241m=\u001b[39m (\u001b[38;5;241m3\u001b[39m,\u001b[38;5;241m4\u001b[39m,\u001b[38;5;241m5\u001b[39m)\n\u001b[0;32m      2\u001b[0m isPer \u001b[38;5;241m=\u001b[39m [\u001b[38;5;241m0\u001b[39m]\u001b[38;5;241m*\u001b[39m\u001b[38;5;241m3\u001b[39m\n\u001b[1;32m----> 4\u001b[0m \u001b[43mhop_ndim\u001b[49m\u001b[43m(\u001b[49m\u001b[43mshape\u001b[49m\u001b[43m,\u001b[49m\u001b[43misPer\u001b[49m\u001b[43m)\u001b[49m\n",
      "Cell \u001b[1;32mIn[82], line 22\u001b[0m, in \u001b[0;36mhop_ndim\u001b[1;34m(shape, isPer)\u001b[0m\n\u001b[0;32m     19\u001b[0m \u001b[38;5;28;01mfor\u001b[39;00m i \u001b[38;5;129;01min\u001b[39;00m \u001b[38;5;28mrange\u001b[39m(\u001b[38;5;28mlen\u001b[39m(idx)): \u001b[38;5;66;03m#each idx is a point; for each dimension \u001b[39;00m\n\u001b[0;32m     20\u001b[0m     point \u001b[38;5;241m=\u001b[39m np\u001b[38;5;241m.\u001b[39marray(idx) \u001b[38;5;66;03m#convert point to array\u001b[39;00m\n\u001b[1;32m---> 22\u001b[0m     value \u001b[38;5;241m=\u001b[39m \u001b[43mget_nth_dim\u001b[49m\u001b[43m(\u001b[49m\u001b[43mpoint\u001b[49m\u001b[43m,\u001b[49m\u001b[43mi\u001b[49m\u001b[43m,\u001b[49m\u001b[38;5;241;43m0\u001b[39;49m\u001b[43m)\u001b[49m \u001b[38;5;66;03m#ith dim value of neighboring point in positive dir\u001b[39;00m\n\u001b[0;32m     23\u001b[0m     neighbor \u001b[38;5;241m=\u001b[39m point\n\u001b[0;32m     24\u001b[0m     neighbor[i] \u001b[38;5;241m=\u001b[39m value\n",
      "Cell \u001b[1;32mIn[73], line 3\u001b[0m, in \u001b[0;36mget_nth_dim\u001b[1;34m(array, nth_dim, index)\u001b[0m\n\u001b[0;32m      1\u001b[0m \u001b[38;5;28;01mdef\u001b[39;00m \u001b[38;5;21mget_nth_dim\u001b[39m(array, nth_dim, index): \u001b[38;5;66;03m#index values on the nth dimension\u001b[39;00m\n\u001b[0;32m      2\u001b[0m \u001b[38;5;250m    \u001b[39m\u001b[38;5;124;03m'''Credit to https://stackoverflow.com/a/45462833'''\u001b[39;00m\n\u001b[1;32m----> 3\u001b[0m     \u001b[38;5;28;01mreturn\u001b[39;00m \u001b[43marray\u001b[49m\u001b[43m[\u001b[49m\u001b[43m(\u001b[49m\u001b[38;5;28;43mslice\u001b[39;49m\u001b[43m(\u001b[49m\u001b[38;5;28;43;01mNone\u001b[39;49;00m\u001b[43m)\u001b[49m\u001b[43m,\u001b[49m\u001b[43m \u001b[49m\u001b[43m)\u001b[49m\u001b[38;5;241;43m*\u001b[39;49m\u001b[43mnth_dim\u001b[49m\u001b[43m \u001b[49m\u001b[38;5;241;43m+\u001b[39;49m\u001b[43m \u001b[49m\u001b[43m(\u001b[49m\u001b[43mindex\u001b[49m\u001b[43m,\u001b[49m\u001b[43m \u001b[49m\u001b[43m)\u001b[49m\u001b[43m]\u001b[49m\n",
      "\u001b[1;31mIndexError\u001b[0m: too many indices for array: array is 1-dimensional, but 2 were indexed"
     ]
    }
   ],
   "source": [
    "shape = (3,4,5)\n",
    "isPer = [0]*3\n",
    "\n",
    "hop_ndim(shape,isPer)"
   ]
  }
 ],
 "metadata": {
  "kernelspec": {
   "display_name": "base",
   "language": "python",
   "name": "python3"
  },
  "language_info": {
   "codemirror_mode": {
    "name": "ipython",
    "version": 3
   },
   "file_extension": ".py",
   "mimetype": "text/x-python",
   "name": "python",
   "nbconvert_exporter": "python",
   "pygments_lexer": "ipython3",
   "version": "3.11.5"
  }
 },
 "nbformat": 4,
 "nbformat_minor": 2
}
