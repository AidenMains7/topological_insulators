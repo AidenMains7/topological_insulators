{
 "cells": [
  {
   "cell_type": "code",
   "execution_count": 1,
   "metadata": {},
   "outputs": [],
   "source": [
    "import numpy as np\n",
    "import scipy as sp"
   ]
  },
  {
   "cell_type": "code",
   "execution_count": 2,
   "metadata": {},
   "outputs": [],
   "source": [
    "#Define dimensions and boundary conditions\n",
    "L_y = 10 #rows\n",
    "L_x = 10 #columns\n",
    "isPeriodicVert = False\n",
    "isPeriodicHor = False"
   ]
  },
  {
   "cell_type": "code",
   "execution_count": 3,
   "metadata": {},
   "outputs": [],
   "source": [
    "def get_nth_dim(array, nth_dim, index): #index values on the nth dimension\n",
    "    '''Credit to https://stackoverflow.com/a/45462833'''\n",
    "    return array[(slice(None), )*nth_dim + (index, )]"
   ]
  },
  {
   "cell_type": "code",
   "execution_count": 4,
   "metadata": {},
   "outputs": [],
   "source": [
    "def hop_1D(L,isPeriodic): #hopping in 1D with given boundary condition\n",
    "    #L: number of lattice points\n",
    "    #(clearly) based on your code \n",
    "\n",
    "    lattice = np.arange(L) #1D lattice\n",
    "\n",
    "    cos = sp.sparse.dok_matrix((L,L), dtype=complex) #initialize matrices as sparse dok matrices\n",
    "    sin = sp.sparse.dok_matrix((L,L), dtype=complex)\n",
    "\n",
    "    for i in range(L):\n",
    "        nextPos = lattice[(i+1)%L]\n",
    "        doHop = isPeriodic or nextPos != 0\n",
    "        if doHop:\n",
    "            cos[i,nextPos] = 1/2\n",
    "            sin[i,nextPos] = 1j/2 #j^2 = -1\n",
    "\n",
    "    #we need not compute negative dir, just add hermitian adjoint\n",
    "    cos += cos.conj().T\n",
    "    sin += sin.conj().T\n",
    "\n",
    "    return cos.toarray(), sin.toarray()"
   ]
  },
  {
   "cell_type": "code",
   "execution_count": 5,
   "metadata": {},
   "outputs": [],
   "source": [
    "def hop_2D(L_y,L_x,isPerY,isPerX): #find cos, sin matrices for hopping in the dir of each axis; specify if either axis is periodic.\n",
    "    #L_y: vertical size (n rows)\n",
    "    #L_x: horizontal size (n cols)\n",
    "    #isPerY,X: is periodic (boudnary cond) in respective direction?\n",
    "    n_points = L_y*L_x\n",
    "    lattice = np.arange(n_points).reshape((L_y,L_x))\n",
    "\n",
    "\n",
    "    cosY = sp.sparse.dok_matrix((n_points,n_points), dtype=complex) #initialize matrices as sparse dok matrices\n",
    "    sinY = sp.sparse.dok_matrix((n_points,n_points), dtype=complex)\n",
    "    cosX = sp.sparse.dok_matrix((n_points,n_points), dtype=complex) \n",
    "    sinX = sp.sparse.dok_matrix((n_points,n_points), dtype=complex)\n",
    "\n",
    "    for y in range(L_y):\n",
    "        for x in range(L_x):\n",
    "\n",
    "            y_nhbr = lattice[(y-1)%L_y, x] #next neighbor in positive vert dir (up)\n",
    "            doHopY = isPerY or y_nhbr != 0 #only hop if periodic or next point is not wrapped \n",
    "            if doHopY:\n",
    "                cosY[lattice[y,x], y_nhbr] = 1/2\n",
    "                sinY[lattice[y,x], y_nhbr] = 1j/2\n",
    "\n",
    "\n",
    "            x_nhbr = lattice[y, (x+1)%L_x] #next neighbor in positive hor dir (right)\n",
    "            doHopX = isPerX or x_nhbr != 0\n",
    "            if doHopX:\n",
    "                cosX[lattice[y,x], x_nhbr] = 1/2\n",
    "                sinX[lattice[y,x], x_nhbr] = 1j/2\n",
    "\n",
    "    ver_list = [cosY, sinY]\n",
    "    hor_list = [cosX, sinX]\n",
    "\n",
    "    sup_list = [ver_list, hor_list] #idea to generalize to N dimensions\n",
    "\n",
    "    for i in sup_list: #for each axis dir list \n",
    "        for j in i: #for each cos, sin in a given direction\n",
    "            j += j.conj().T  #add hermitian adjoint (as opposed to also computing negative hop direction)\n",
    "\n",
    "    for i in range(len(sup_list)):\n",
    "        for j in range(len(sup_list[i])):\n",
    "            sup_list[i][j] = sup_list[i][j].toarray() #convert to numpy array\n",
    "\n",
    "    return sup_list"
   ]
  },
  {
   "cell_type": "code",
   "execution_count": 6,
   "metadata": {},
   "outputs": [],
   "source": [
    "def init_cos_sin(n_points): \n",
    "    cos = sp.sparse.dok_matrix((n_points,n_points), dtype=complex) #initialize matrices as sparse dok matrices\n",
    "    sin = sp.sparse.dok_matrix((n_points,n_points), dtype=complex)\n",
    "    return cos, sin"
   ]
  },
  {
   "cell_type": "code",
   "execution_count": 7,
   "metadata": {},
   "outputs": [],
   "source": [
    "def hop_ndim(shape,isPer):\n",
    "    #shape: a tuple describing the size each dimension\n",
    "    #isPer: a list of boolean with the same length as shape; is periodic in given dir?\n",
    "\n",
    "    n_dims = len(shape)\n",
    "    n_points = 1 #initalize\n",
    "    for i in shape: #product of all dimension size\n",
    "        n_points *= i\n",
    "\n",
    "    lattice = np.arange(n_points).reshape(shape)\n",
    "\n",
    "    super_list = [None]*n_dims #list of all cos, sin arrays\n",
    "\n",
    "    for i in range(n_dims):\n",
    "        super_list[i] = [init_cos_sin(n_points)]"
   ]
  },
  {
   "cell_type": "code",
   "execution_count": 21,
   "metadata": {},
   "outputs": [],
   "source": [
    "def iter_for_loop(shape, n_dims): #iterate on all points of n_dims\n",
    "    if (n_dims > 1):\n",
    "        iter_for_loop(shape, n_dims-1)\n",
    "        for i in range(shape[n_dims-1]):\n",
    "            print(i,end=' ')\n",
    "        print()\n",
    "\n"
   ]
  }
 ],
 "metadata": {
  "kernelspec": {
   "display_name": "base",
   "language": "python",
   "name": "python3"
  },
  "language_info": {
   "codemirror_mode": {
    "name": "ipython",
    "version": 3
   },
   "file_extension": ".py",
   "mimetype": "text/x-python",
   "name": "python",
   "nbconvert_exporter": "python",
   "pygments_lexer": "ipython3",
   "version": "3.11.5"
  }
 },
 "nbformat": 4,
 "nbformat_minor": 2
}
