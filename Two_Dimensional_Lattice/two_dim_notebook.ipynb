{
 "cells": [
  {
   "cell_type": "code",
   "execution_count": 17,
   "metadata": {},
   "outputs": [],
   "source": [
    "import numpy as np\n",
    "import scipy as sp"
   ]
  },
  {
   "cell_type": "code",
   "execution_count": 16,
   "metadata": {},
   "outputs": [],
   "source": [
    "#First, create the 2D lattice\n",
    "L_y = 10 #rows\n",
    "L_x = 10 #columns\n",
    "lattice = np.arange(L_y*L_x).reshape(L_y,L_x) #reshape into grid"
   ]
  },
  {
   "cell_type": "code",
   "execution_count": 26,
   "metadata": {},
   "outputs": [],
   "source": [
    "#we initalize the cos, sin matrices as sparse dictionary of keys matrices\n",
    "def initialize_cos_sin(L_y,L_x):\n",
    "\n",
    "    cos = sp.sparse.dok_matrix((L_y,L_x), dtype=complex)\n",
    "    sin = sp.sparse.dok_matrix((L_y,L_x), dtype=complex)\n",
    "    return cos,sin"
   ]
  },
  {
   "cell_type": "code",
   "execution_count": null,
   "metadata": {},
   "outputs": [],
   "source": [
    "def create_matrix(isPeriodicVert, isPeriodicHor):\n",
    "    #isPeriodicVert: bool, True if lattice has vertical periodic boundary conditions\n",
    "    #isPeriodicHor: bool, True if lattice has horizontal periodic boundary conditions\n",
    "\n",
    "    cosHor, sinHor = initialize_cos_sin()\n",
    "    cosVert, sinVert = initialize_cos_sin()\n",
    "\n",
    "    for y in range(L_y): #iterate rows\n",
    "        for x in range(L_x): #iterate columns\n",
    "\n",
    "            vert = lattice[(y+1)%L_y] #hopping 1 vertically (we define up as positive)\n",
    "            hor = lattice[(x+1)%L_x] #hopping 1 horizontally (we define right as positive)\n",
    "\n",
    "            doVertHop = isPeriodicVert or vert != 0\n",
    "            doHorHop = isPeriodicHor or hor != 0\n",
    "\n",
    "            if doVertHop: #if vertically hopping is allowed\n",
    "                cosVert[y,x] = 1/2\n",
    "                sinVert[y,x] = 1j/2 #j^2 = -1\n",
    "            if doHorHop: #if horizontally hopping is allowed\n",
    "                cosHor[y,x] = 1/2\n",
    "                sinHor[y,x] = 1j/2\n",
    "\n",
    "    #we do not need to compute the negative direction, as we may just add the hermitian adjoint.\n",
    "    cosVert += cosVert.conj().T\n",
    "    sinVert += sinVert.conj().T\n",
    "    cosHor += cosHor.conj().T\n",
    "    sinHor += sinHor.conj().T\n",
    "    "
   ]
  }
 ],
 "metadata": {
  "kernelspec": {
   "display_name": "base",
   "language": "python",
   "name": "python3"
  },
  "language_info": {
   "codemirror_mode": {
    "name": "ipython",
    "version": 3
   },
   "file_extension": ".py",
   "mimetype": "text/x-python",
   "name": "python",
   "nbconvert_exporter": "python",
   "pygments_lexer": "ipython3",
   "version": "3.11.5"
  }
 },
 "nbformat": 4,
 "nbformat_minor": 2
}
